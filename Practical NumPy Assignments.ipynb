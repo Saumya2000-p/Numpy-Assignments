{
  "metadata": {
    "kernelspec": {
      "name": "python",
      "display_name": "Python (Pyodide)",
      "language": "python"
    },
    "language_info": {
      "codemirror_mode": {
        "name": "python",
        "version": 3
      },
      "file_extension": ".py",
      "mimetype": "text/x-python",
      "name": "python",
      "nbconvert_exporter": "python",
      "pygments_lexer": "ipython3",
      "version": "3.8"
    }
  },
  "nbformat_minor": 4,
  "nbformat": 4,
  "cells": [
    {
      "cell_type": "raw",
      "source": "### Practical Questions ###",
      "metadata": {}
    },
    {
      "cell_type": "code",
      "source": "1. Create a 3x3 NumPy array with random integers between 1 and 100. Then, interchange its rows and columns.\n\n2. Generate a 1D NumPy array with 10 elements. Reshape it into a 2x5 array, then into a 5x2 array.\n\n3. Create a 4x4 NumPy array with random float values. Add a border of zeros around it, resulting in a 6x6 array.\n\n4. Using NumPy, create an array of integers from 10 to 60 with a step of 5.\n\n5. Create a NumPy array of strings ['python', 'numpy', 'pandas']. Apply different case transformations (uppercase, lowercase, title case, etc.) to each element.\n\n6. Generate a NumPy array of words. Insert a space between each character of every word in the array.\n\n7. Create two 2D NumPy arrays and perform element-wise addition, subtraction, multiplication, and division.\n\n8. Use NumPy to create a 5x5 identity matrix, then extract its diagonal elements.\n\n9. Generate a NumPy array of 100 random integers between 0 and 1000. Find and display all prime numbers in this array.\n\n10. Create a NumPy array representing daily temperatures for a month. Calculate and display the weekly averages.",
      "metadata": {
        "trusted": true
      },
      "outputs": [],
      "execution_count": null
    },
    {
      "cell_type": "raw",
      "source": "Answer1. Create a 3x3 NumPy array with random integers between 1 and 100. Then, interchange its rows and columns.",
      "metadata": {}
    },
    {
      "cell_type": "code",
      "source": "import numpy as np\n\n# Create a 3x3 array with random integers between 1 and 100\narray = np.random.randint(1, 101, size=(3, 3))\nprint(\"Original Array:\")\nprint(array)\n\n# Interchange rows and columns (transpose the array)\ntransposed_array = array.T\nprint(\"\\nTransposed Array:\")\nprint(transposed_array)",
      "metadata": {
        "trusted": true
      },
      "outputs": [
        {
          "name": "stdout",
          "text": "Original Array:\n[[ 6 24 59]\n [74 46 29]\n [99 32 10]]\n\nTransposed Array:\n[[ 6 74 99]\n [24 46 32]\n [59 29 10]]\n",
          "output_type": "stream"
        }
      ],
      "execution_count": 1
    },
    {
      "cell_type": "raw",
      "source": "Answer2. Generate a 1D NumPy array with 10 elements. Reshape it into a 2x5 array, then into a 5x2 array.",
      "metadata": {}
    },
    {
      "cell_type": "code",
      "source": "import numpy as np\n\n# Generate a 1D NumPy array with 10 elements\narray_1d = np.arange(10)  # This will create an array with values from 0 to 9\nprint(\"Original 1D Array:\")\nprint(array_1d)\n\n# Reshape into a 2x5 array\narray_2x5 = array_1d.reshape(2, 5)\nprint(\"\\nReshaped into 2x5 Array:\")\nprint(array_2x5)\n\n# Reshape into a 5x2 array\narray_5x2 = array_1d.reshape(5, 2)\nprint(\"\\nReshaped into 5x2 Array:\")\nprint(array_5x2)",
      "metadata": {
        "trusted": true
      },
      "outputs": [
        {
          "name": "stdout",
          "text": "Original 1D Array:\n[0 1 2 3 4 5 6 7 8 9]\n\nReshaped into 2x5 Array:\n[[0 1 2 3 4]\n [5 6 7 8 9]]\n\nReshaped into 5x2 Array:\n[[0 1]\n [2 3]\n [4 5]\n [6 7]\n [8 9]]\n",
          "output_type": "stream"
        }
      ],
      "execution_count": 2
    },
    {
      "cell_type": "raw",
      "source": "Answer3. Create a 4x4 NumPy array with random float values. Add a border of zeros around it, resulting in a 6x6 array.",
      "metadata": {}
    },
    {
      "cell_type": "code",
      "source": "import numpy as np\n\n# Create a 4x4 array with random float values\narray_4x4 = np.random.rand(4, 4)\nprint(\"Original 4x4 Array:\")\nprint(array_4x4)\n\n# Add a border of zeros around the 4x4 array\narray_6x6 = np.pad(array_4x4, pad_width=1, mode='constant', constant_values=0)\nprint(\"\\n6x6 Array with a Border of Zeros:\")\nprint(array_6x6)",
      "metadata": {
        "trusted": true
      },
      "outputs": [
        {
          "name": "stdout",
          "text": "Original 4x4 Array:\n[[0.46223724 0.21104515 0.74860271 0.47028067]\n [0.41520104 0.57729669 0.05461814 0.08690795]\n [0.32160549 0.3229018  0.58230873 0.4829655 ]\n [0.76939751 0.90344994 0.45915131 0.30753739]]\n\n6x6 Array with a Border of Zeros:\n[[0.         0.         0.         0.         0.         0.        ]\n [0.         0.46223724 0.21104515 0.74860271 0.47028067 0.        ]\n [0.         0.41520104 0.57729669 0.05461814 0.08690795 0.        ]\n [0.         0.32160549 0.3229018  0.58230873 0.4829655  0.        ]\n [0.         0.76939751 0.90344994 0.45915131 0.30753739 0.        ]\n [0.         0.         0.         0.         0.         0.        ]]\n",
          "output_type": "stream"
        }
      ],
      "execution_count": 3
    },
    {
      "cell_type": "raw",
      "source": "Answer4. Using NumPy, create an array of integers from 10 to 60 with a step of 5.",
      "metadata": {}
    },
    {
      "cell_type": "code",
      "source": "import numpy as np\n\n# Create an array of integers from 10 to 60 with a step of 5\narray = np.arange(10, 61, 5)\nprint(\"Array of integers from 10 to 60 with a step of 5:\")\nprint(array)",
      "metadata": {
        "trusted": true
      },
      "outputs": [
        {
          "name": "stdout",
          "text": "Array of integers from 10 to 60 with a step of 5:\n[10 15 20 25 30 35 40 45 50 55 60]\n",
          "output_type": "stream"
        }
      ],
      "execution_count": 4
    },
    {
      "cell_type": "raw",
      "source": "Answer5. Create a NumPy array of strings ['python', 'numpy', 'pandas']. Apply different case transformations (uppercase, lowercase, title case, etc.) to each element.",
      "metadata": {}
    },
    {
      "cell_type": "code",
      "source": "import numpy as np\n\n# Create a NumPy array of strings\narray = np.array(['python', 'numpy', 'pandas'])\n\n# Apply different case transformations\nuppercase = np.char.upper(array)\nlowercase = np.char.lower(array)\ntitlecase = np.char.title(array)\ncapitalize = np.char.capitalize(array)\n\n# Display the results\nprint(\"Original Array:\")\nprint(array)\nprint(\"\\nUppercase:\")\nprint(uppercase)\nprint(\"\\nLowercase:\")\nprint(lowercase)\nprint(\"\\nTitle Case:\")\nprint(titlecase)\nprint(\"\\nCapitalized:\")\nprint(capitalize)",
      "metadata": {
        "trusted": true
      },
      "outputs": [
        {
          "name": "stdout",
          "text": "Original Array:\n['python' 'numpy' 'pandas']\n\nUppercase:\n['PYTHON' 'NUMPY' 'PANDAS']\n\nLowercase:\n['python' 'numpy' 'pandas']\n\nTitle Case:\n['Python' 'Numpy' 'Pandas']\n\nCapitalized:\n['Python' 'Numpy' 'Pandas']\n",
          "output_type": "stream"
        }
      ],
      "execution_count": 5
    },
    {
      "cell_type": "raw",
      "source": "Answer6. Generate a NumPy array of words. Insert a space between each character of every word in the array.",
      "metadata": {}
    },
    {
      "cell_type": "code",
      "source": "import numpy as np\n\n# Create a NumPy array of words\nwords = np.array(['python', 'numpy', 'pandas'])\n\n# Insert a space between each character of every word\nspaced_words = np.char.join(' ', words)\n\n# Display the results\nprint(\"Original Array of Words:\")\nprint(words)\nprint(\"\\nWords with Spaces Between Characters:\")\nprint(spaced_words)",
      "metadata": {
        "trusted": true
      },
      "outputs": [
        {
          "name": "stdout",
          "text": "Original Array of Words:\n['python' 'numpy' 'pandas']\n\nWords with Spaces Between Characters:\n['p y t h o n' 'n u m p y' 'p a n d a s']\n",
          "output_type": "stream"
        }
      ],
      "execution_count": 6
    },
    {
      "cell_type": "raw",
      "source": "Answer7. Create two 2D NumPy arrays and perform element-wise addition, subtraction, multiplication, and division.",
      "metadata": {}
    },
    {
      "cell_type": "code",
      "source": "import numpy as np\n\n# Create two 2D NumPy arrays\narray1 = np.array([[1, 2, 3], [4, 5, 6]])\narray2 = np.array([[7, 8, 9], [10, 11, 12]])\n\n# Perform element-wise operations\naddition = array1 + array2\nsubtraction = array1 - array2\nmultiplication = array1 * array2\ndivision = array1 / array2\n\n# Display the results\nprint(\"Array 1:\")\nprint(array1)\nprint(\"\\nArray 2:\")\nprint(array2)\n\nprint(\"\\nElement-wise Addition:\")\nprint(addition)\nprint(\"\\nElement-wise Subtraction:\")\nprint(subtraction)\nprint(\"\\nElement-wise Multiplication:\")\nprint(multiplication)\nprint(\"\\nElement-wise Division:\")\nprint(division)",
      "metadata": {
        "trusted": true
      },
      "outputs": [
        {
          "name": "stdout",
          "text": "Array 1:\n[[1 2 3]\n [4 5 6]]\n\nArray 2:\n[[ 7  8  9]\n [10 11 12]]\n\nElement-wise Addition:\n[[ 8 10 12]\n [14 16 18]]\n\nElement-wise Subtraction:\n[[-6 -6 -6]\n [-6 -6 -6]]\n\nElement-wise Multiplication:\n[[ 7 16 27]\n [40 55 72]]\n\nElement-wise Division:\n[[0.14285714 0.25       0.33333333]\n [0.4        0.45454545 0.5       ]]\n",
          "output_type": "stream"
        }
      ],
      "execution_count": 7
    },
    {
      "cell_type": "raw",
      "source": "Answer8. Use NumPy to create a 5x5 identity matrix, then extract its diagonal elements.",
      "metadata": {}
    },
    {
      "cell_type": "code",
      "source": "import numpy as np\n\n# Create a 5x5 identity matrix\nidentity_matrix = np.eye(5)\nprint(\"5x5 Identity Matrix:\")\nprint(identity_matrix)\n\n# Extract the diagonal elements\ndiagonal_elements = np.diagonal(identity_matrix)\nprint(\"\\nDiagonal Elements:\")\nprint(diagonal_elements)",
      "metadata": {
        "trusted": true
      },
      "outputs": [
        {
          "name": "stdout",
          "text": "5x5 Identity Matrix:\n[[1. 0. 0. 0. 0.]\n [0. 1. 0. 0. 0.]\n [0. 0. 1. 0. 0.]\n [0. 0. 0. 1. 0.]\n [0. 0. 0. 0. 1.]]\n\nDiagonal Elements:\n[1. 1. 1. 1. 1.]\n",
          "output_type": "stream"
        }
      ],
      "execution_count": 8
    },
    {
      "cell_type": "raw",
      "source": "Answer9. Generate a NumPy array of 100 random integers between 0 and 1000. Find and display all prime numbers in this array.",
      "metadata": {}
    },
    {
      "cell_type": "code",
      "source": "import numpy as np\n\n# Function to check if a number is prime\ndef is_prime(n):\n    if n <= 1:\n        return False\n    for i in range(2, int(n**0.5) + 1):\n        if n % i == 0:\n            return False\n    return True\n\n# Generate a NumPy array of 100 random integers between 0 and 1000\nrandom_integers = np.random.randint(0, 1001, size=100)\nprint(\"Array of Random Integers:\")\nprint(random_integers)\n\n# Find all prime numbers in the array\nprime_numbers = [num for num in random_integers if is_prime(num)]\n\nprint(\"\\nPrime Numbers in the Array:\")\nprint(prime_numbers)",
      "metadata": {
        "trusted": true
      },
      "outputs": [
        {
          "name": "stdout",
          "text": "Array of Random Integers:\n[765 422 850 916 642 532 319 473 370 335  47 482 420 608 378 909 800 112\n 553 806 919 288 220 968 168 506 970 640 807 545 322 763 757 960 347 239\n 989 641 471  54 333 622 365  86 698 965 182 851 920  95 498 307 784 221\n 487  25 102   6 261 539 352 357   9 212  98 265 154 195 518 172 386 881\n 317 840 581 358 811 870 545 604 690 701 737 569 651 950 580 379 960 140\n 927  53 239 690 934 198   5 499 901  56]\n\nPrime Numbers in the Array:\n[47, 919, 757, 347, 239, 641, 307, 487, 881, 317, 811, 701, 569, 379, 53, 239, 5, 499]\n",
          "output_type": "stream"
        }
      ],
      "execution_count": 9
    },
    {
      "cell_type": "raw",
      "source": "Answer10. Create a NumPy array representing daily temperatures for a month. Calculate and display the weekly averages.",
      "metadata": {}
    },
    {
      "cell_type": "code",
      "source": "import numpy as np\n\n# Create a NumPy array representing daily temperatures for a month (30 days)\n# For example, let's use random temperatures between 0 and 30 degrees Celsius\ndaily_temperatures = np.random.uniform(0, 30, size=30)\nprint(\"Daily Temperatures for the Month:\")\nprint(daily_temperatures)\n\n# Reshape the array into weeks (4 complete weeks and 2 extra days)\n# This will give us 4 rows for the first 28 days, and the last row will contain the last 2 days\nweekly_temperatures = np.zeros((5, 7))\nweekly_temperatures[:4, :7] = daily_temperatures[:28].reshape(4, 7)\nweekly_temperatures[4, :2] = daily_temperatures[28:]\n\n# Calculate weekly averages\nweekly_averages = np.mean(weekly_temperatures, axis=1)\n\nprint(\"\\nWeekly Averages:\")\nprint(weekly_averages)",
      "metadata": {
        "trusted": true
      },
      "outputs": [
        {
          "name": "stdout",
          "text": "Daily Temperatures for the Month:\n[12.74632708  1.33625738  3.21877159 12.76919559 27.69994434 27.56111218\n 24.91400936  9.49808194 28.4071341  28.63751208 23.78135482 10.84521151\n 13.5376395  24.80013173 26.93871356 26.97092004  2.46735588  5.33227666\n 23.00289826 22.17797305  3.78671691  8.17516049 20.90633017 12.43249273\n  9.46511563  1.20035772  3.53819468  2.42618    26.64138665 16.55841728]\n\nWeekly Averages:\n[15.74937393 19.92958081 15.81097919  8.30626163  6.17140056]\n",
          "output_type": "stream"
        }
      ],
      "execution_count": 11
    },
    {
      "cell_type": "raw",
      "source": "Explanation:\n1. Daily Temperatures: The code generates random daily temperatures for 30 days between 0 and 30 degrees Celsius.\n2. Reshape to Weeks: It reshapes the first 28 days into a 4-week format (4 rows), and the last 2 days are added to a fifth row.\n3. Calculate Averages: Finally, it calculates the average temperature for each week.\n\n   This will give you the weekly averages displayed after the daily temperatures.",
      "metadata": {}
    }
  ]
}